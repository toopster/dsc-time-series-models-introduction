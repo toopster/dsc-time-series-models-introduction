{
 "cells": [
  {
   "cell_type": "markdown",
   "metadata": {},
   "source": [
    "# Modeling Time Series Data - Introduction\n",
    "\n",
    "## Introduction\n",
    "In this section, you'll learn about modeling for time series data. \n",
    "\n",
    "\n",
    "## Time Series Modeling\n",
    "\n",
    "In the previous section, we introduced the idea of time series data and provided some best practices for importing, managing, and visualizing time series data along with a number of techniques for removing trends and/or seasonality from a time series dataset. In this section, we're going to look at various types of models for time series data.\n",
    "\n",
    "### Basic Time Series Models\n",
    "\n",
    "We start off by introducing two basic time series models -- the white noise and random walk models.\n",
    "\n",
    "### Correlation, Autocorrelation, and Partial Autocorrelation \n",
    "\n",
    "We will then move on to the concept of correlation as it relates to time series datasets, and plot the Autocorrelation Function (ACF) and Partial Autocorrelation Function (PACF) for a time series. \n",
    "\n",
    "\n",
    "### ARMA Models\n",
    "\n",
    "We then move on to introduce two other key time series models that are widely used for predicting future values for time series data - the auto regressive (AR) and moving average (MA) models.\n",
    "\n",
    "\n",
    "## Summary\n",
    "\n",
    "Let's get started! This section wraps up our introduction to time series analysis, giving you the modeling tools required to effectively forecast time series data."
   ]
  }
 ],
 "metadata": {
  "kernelspec": {
   "display_name": "Python 3",
   "language": "python",
   "name": "python3"
  },
  "language_info": {
   "codemirror_mode": {
    "name": "ipython",
    "version": 3
   },
   "file_extension": ".py",
   "mimetype": "text/x-python",
   "name": "python",
   "nbconvert_exporter": "python",
   "pygments_lexer": "ipython3",
   "version": "3.6.9"
  }
 },
 "nbformat": 4,
 "nbformat_minor": 2
}
